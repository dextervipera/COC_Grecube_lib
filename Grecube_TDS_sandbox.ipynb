{
 "cells": [
  {
   "cell_type": "markdown",
   "id": "154b9470",
   "metadata": {},
   "source": [
    "# work progress\n",
    "\n",
    "1. Files are loaded, plotted\n",
    "2. Agregating features required"
   ]
  },
  {
   "cell_type": "code",
   "execution_count": 1,
   "id": "ec87dc39",
   "metadata": {},
   "outputs": [],
   "source": [
    "import matplotlib.pyplot as plt\n",
    "import matplotlib.ticker as ticker\n",
    "from glob import glob\n",
    "import pandas as pd\n",
    "from COC_utils import read_COC, parse_filename"
   ]
  },
  {
   "cell_type": "code",
   "execution_count": 2,
   "id": "be52cca4",
   "metadata": {},
   "outputs": [
    {
     "name": "stdout",
     "output_type": "stream",
     "text": [
      "['COC/measurements/1Nozzle_temp\\\\COC1_P1 C_4021 001.csv', 'COC/measurements/1Nozzle_temp\\\\COC1_P2 C_4041 002.csv', 'COC/measurements/1Nozzle_temp\\\\COC2_P1 C_4022 001.csv', 'COC/measurements/1Nozzle_temp\\\\COC2_P2 C_4055 001.csv', 'COC/measurements/1Nozzle_temp\\\\COC3_P1 C_4015 001.csv', 'COC/measurements/1Nozzle_temp\\\\COC3_P2 C_4011 001.csv', 'COC/measurements/1Nozzle_temp\\\\COC4_P1 C_4019 001.csv', 'COC/measurements/1Nozzle_temp\\\\COC4_P2 C_4002 001.csv', 'COC/measurements/1Nozzle_temp\\\\COC5_P1 C_3971 001.csv', 'COC/measurements/1Nozzle_temp\\\\COC5_P2 C_3981 001.csv', 'COC/measurements/1Nozzle_temp\\\\COC6_P1 C_3989 001.csv', 'COC/measurements/1Nozzle_temp\\\\COC6_P2 C_3987 001.csv', 'COC/measurements/1Nozzle_temp\\\\COC7_P1 C_3978 001.csv', 'COC/measurements/1Nozzle_temp\\\\COC7_P2 C_3976 001.csv', 'COC/measurements/1Nozzle_temp\\\\COC8_P1 C_3951 001.csv', 'COC/measurements/1Nozzle_temp\\\\COC8_P2 C_3964 001.csv', 'COC/measurements/1Nozzle_temp\\\\COC9_P1 C_3952 001.csv', 'COC/measurements/1Nozzle_temp\\\\COC9_P2 C_3941 001.csv']\n"
     ]
    }
   ],
   "source": [
    "files = glob(\"COC/measurements/1Nozzle_temp/*.csv\")\n",
    "print(files)"
   ]
  },
  {
   "cell_type": "code",
   "execution_count": 3,
   "id": "6f1e96d4",
   "metadata": {},
   "outputs": [],
   "source": []
  },
  {
   "cell_type": "code",
   "execution_count": 4,
   "id": "5d548b59",
   "metadata": {},
   "outputs": [],
   "source": [
    "import os\n",
    "data = {}\n",
    "for file in files:\n",
    "    data[os.path.basename(file)] = read_COC(file)"
   ]
  },
  {
   "cell_type": "code",
   "execution_count": 35,
   "id": "f76d799a",
   "metadata": {},
   "outputs": [
    {
     "name": "stdout",
     "output_type": "stream",
     "text": [
      "Items held:\n",
      "material (COC)\n",
      "index (7)\n",
      "take (1)\n",
      "width (3978)\n"
     ]
    }
   ],
   "source": [
    "# data.keys()\n",
    "tst = parse_filename('COC7_P1 C_3978 001.csv')\n",
    "print_inventory(tst)  "
   ]
  },
  {
   "cell_type": "markdown",
   "id": "32d0c320",
   "metadata": {},
   "source": [
    "# lookup\n",
    "1. WaveNumber\n",
    "2. Refractive\n",
    "3. Absorbtion"
   ]
  },
  {
   "cell_type": "code",
   "execution_count": null,
   "id": "eae43c73",
   "metadata": {},
   "outputs": [],
   "source": [
    "refabs_fig = plt.figure(figsize=(7,5))\n",
    "ref_ax = refabs_fig.add_axes([.1,.1,1.6,.8])\n",
    "abs_ax = ref_ax.twinx()\n",
    "_C1000 = 299792458*1000\n",
    "_xax_mlt = 10e-12\n",
    "_xax_label_unit = 'THz'\n",
    "\n",
    "_name_temperature_map = {\n",
    "    'COC1_P1 C_4021 001.csv':'200',\n",
    "    'COC1_P2 C_4041 002.csv':'250',\n",
    "    'COC2_P1 C_4022 001.csv':'1',\n",
    "    'COC2_P2 C_4055 001.csv':'1',\n",
    "    'COC3_P1 C_4015 001.csv':'1',\n",
    "    'COC3_P2 C_4011 001.csv':'1',\n",
    "    'COC4_P1 C_4019 001.csv':'1',\n",
    "    'COC4_P2 C_4002 001.csv':'1',\n",
    "    'COC5_P1 C_3971 001.csv':'1',\n",
    "    'COC5_P2 C_3981 001.csv':'1',\n",
    "    'COC6_P1 C_3989 001.csv':'1',\n",
    "    'COC6_P2 C_3987 001.csv':'1',\n",
    "    'COC7_P1 C_3978 001.csv':'1',\n",
    "    'COC7_P2 C_3976 001.csv':'1',\n",
    "    'COC8_P1 C_3951 001.csv':'1',\n",
    "    'COC8_P2 C_3964 001.csv':'1',\n",
    "    'COC9_P1 C_3952 001.csv':'1',\n",
    "    'COC9_P2 C_3941 001.csv':'1'}\n",
    "\n",
    "def name_map(filename) ->str:\n",
    "    s_id = filename[:4]\n",
    "    s_p = filename[6]\n",
    "    return f\"{s_id}.p{s_p}; T:{_name_temperature_map.get(filename)}°C\"\n",
    "\n",
    "name = {}\n",
    "\n",
    "for sample, serie in data.items():\n",
    "    ref_ax.plot(_C1000/serie.WaveNumber*_xax_mlt, serie.Refractive, \n",
    "                label=name_map(sample))\n",
    "    abs_ax.plot(_C1000/serie.WaveNumber*_xax_mlt, serie.Absorption, '--',\n",
    "                label=name_map(sample))\n",
    "ref_ax.legend(bbox_to_anchor=(0.05, 1, 0, 0), ncol = 6)\n",
    "#abs_ax.legend(loc='lower right')\n",
    "#ref_ax.axis.set_major_formatter(ticker.FormatStrFormatter('%0.1f THz'))\n",
    "\n",
    "ref_ax.set_xlim([0,1])\n",
    "ref_ax.set_xlabel(f\"Frequency [{_xax_label_unit}]\")\n",
    "ref_ax.set_ylabel(\"Refraction [-]\")\n",
    "abs_ax.set_ylabel(\"Absorption [cm-1]\")\n",
    "ref_ax.grid()\n",
    "plt.tight_layout()\n",
    "plt.savefig(\"wykres.png\", bbox_inches = 'tight')"
   ]
  },
  {
   "cell_type": "markdown",
   "id": "95ff220c",
   "metadata": {},
   "source": [
    "from statistics import mean\n",
    "data.keys()\n",
    "def extract_key(filename) ->str:\n",
    "    return [file_item[:4] for file_item in filename]\n",
    "\n",
    "groupKeys = set(extract_key(list(data.keys())))\n",
    "mdata = pd.DataFrame()\n",
    "groups = {k: [] for k in groupKeys }\n",
    "for key in data.keys():\n",
    "    groups[key[:4]].append(key)\n",
    "#find samples\n",
    "\n",
    "important_headers = ['WaveNumber','Absorbance', 'Refractive']\n",
    "jdata = pd.DataFrame()\n",
    "\n",
    "for sample, dframe in data.items():\n",
    "    tm_data = pd.DataFrame()\n",
    "    for header in important_headers:\n",
    "        tm_data[header] = dframe[header]\n",
    "    jdata = pd.DataFrame.merge([jdata, tm_data], 'right', on='WaveNumber')"
   ]
  }
 ],
 "metadata": {
  "kernelspec": {
   "display_name": "Python 3 (ipykernel)",
   "language": "python",
   "name": "python3"
  },
  "language_info": {
   "codemirror_mode": {
    "name": "ipython",
    "version": 3
   },
   "file_extension": ".py",
   "mimetype": "text/x-python",
   "name": "python",
   "nbconvert_exporter": "python",
   "pygments_lexer": "ipython3",
   "version": "3.9.7"
  }
 },
 "nbformat": 4,
 "nbformat_minor": 5
}
